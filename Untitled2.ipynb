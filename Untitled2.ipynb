{
 "cells": [
  {
   "cell_type": "code",
   "execution_count": 1,
   "metadata": {},
   "outputs": [
    {
     "name": "stderr",
     "output_type": "stream",
     "text": [
      "Using TensorFlow backend.\n"
     ]
    }
   ],
   "source": [
    "import tensorflow as tf\n",
    "import numpy as np\n",
    "import pandas as pd\n",
    "import matplotlib.pyplot as plt\n",
    "import skimage.io as io\n",
    "import skimage.transform as trans\n",
    "import random as r\n",
    "from keras.optimizers import Adam\n",
    "from sklearn.model_selection import train_test_split"
   ]
  },
  {
   "cell_type": "code",
   "execution_count": 2,
   "metadata": {},
   "outputs": [],
   "source": [
    "from keras.models import Input, Model\n",
    "from keras.layers import Conv2D, Concatenate, MaxPooling2D, Reshape\n",
    "from keras.layers import UpSampling2D, Activation, Permute\n",
    "\n",
    "def level_block(m, dim, depth, factor, acti):\n",
    "    if depth > 0:\n",
    "        n = Conv2D(dim, 3, activation=acti, padding='same')(m)\n",
    "        n = Conv2D(dim, 3, activation=acti, padding='same')(n)\n",
    "        m = MaxPooling2D()(n)\n",
    "        m = level_block(m, int(factor*dim), depth-1, factor, acti)\n",
    "        m = UpSampling2D()(m)\n",
    "        m = Conv2D(dim, 2, activation=acti, padding='same')(m)\n",
    "        m = Concatenate(axis=3)([n, m])\n",
    "    m = Conv2D(dim, 3, activation=acti, padding='same')(m)\n",
    "    return Conv2D(dim, 3, activation=acti, padding='same')(m)\n",
    "\n",
    "def UNet(img_shape, n_out=1, dim=64, depth=4, factor=2, acti='relu', flatten=False):\n",
    "    i = Input(shape=img_shape)\n",
    "    o = level_block(i, dim, depth, factor, acti)\n",
    "    o = Conv2D(n_out, (1, 1))(o)\n",
    "    if flatten:\n",
    "        o = Reshape(n_out, img_shape[0] * img_shape[1])(o)\n",
    "        o = Permute((2, 1))(o)\n",
    "    o = Activation('sigmoid')(o)\n",
    "    return Model(inputs=i, outputs=o)"
   ]
  },
  {
   "cell_type": "code",
   "execution_count": 5,
   "metadata": {},
   "outputs": [
    {
     "name": "stdout",
     "output_type": "stream",
     "text": [
      "No GPU found\n"
     ]
    }
   ],
   "source": [
    "import os\n",
    "import tensorflow as tf\n",
    "\n",
    "os.environ['CUDA_VISIBLE_DEVICES'] = ''    \n",
    "\n",
    "if tf.test.gpu_device_name():\n",
    "    print('GPU found')\n",
    "else:\n",
    "    print(\"No GPU found\")"
   ]
  },
  {
   "cell_type": "code",
   "execution_count": null,
   "metadata": {},
   "outputs": [],
   "source": [
    "import glob\n",
    "def create_data(src, mask, label=False, resize=(128,128,128)):\n",
    "    files = glob.glob(src + mask, recursive=True)\n",
    "    imgs = []\n",
    "    for file in files:\n",
    "        img = io.imread(file, plugin='simpleitk')\n",
    "        if label:\n",
    "            img[img == 4] = 1\n",
    "            img[img != 1] = 0\n",
    "            img = img.astype('float32')\n",
    "        else:\n",
    "            img = (img-img.mean()) / img.std()\n",
    "        img = trans.resize(img, resize, mode='constant')\n",
    "        imgs.append(img)\n",
    "    name = 'y' if label else 'x'\n",
    "    np.save(name, np.array(imgs)[..., np.newaxis].astype('float32'))\n",
    "    print('Saved', len(files), 'to', name)\n",
    "\n",
    "\n",
    "\n",
    "import SimpleITK as sitk\n",
    "create_data('e://Image Processing/Brats Project/new/HGG/', '**/*t1ce.nii.gz', label=False, resize=(32,32,32))\n",
    "create_data('e://Image Processing/Brats Project/new/HGG/', '**/*seg*.nii.gz', label=True, resize=(32,32,32))"
   ]
  },
  {
   "cell_type": "code",
   "execution_count": 6,
   "metadata": {},
   "outputs": [
    {
     "name": "stdout",
     "output_type": "stream",
     "text": [
      "x:  (210, 32, 32, 32, 1)\n",
      "y: (210, 32, 32, 32, 1)\n"
     ]
    }
   ],
   "source": [
    "x = np.load('x.npy')\n",
    "print('x: ', x.shape)\n",
    "y = np.load('y.npy')\n",
    "print('y:', y.shape)"
   ]
  },
  {
   "cell_type": "code",
   "execution_count": 7,
   "metadata": {},
   "outputs": [
    {
     "data": {
      "image/png": "[encoded data removed]",
      "text/plain": [
       "<Figure size 720x720 with 2 Axes>"
      ]
     },
     "metadata": {
      "needs_background": "light"
     },
     "output_type": "display_data"
    }
   ],
   "source": [
    "import random as r\n",
    "i = int(r.random() * x.shape[0])\n",
    "plt.figure(figsize=(10,10))\n",
    "plt.subplot(121)\n",
    "plt.imshow(x[i, int(x.shape[1]/2), :, :, 0])\n",
    "plt.subplot(122)\n",
    "plt.imshow(y[i, int(y.shape[1]/2), :, :, 0])\n",
    "plt.show()"
   ]
  },
  {
   "cell_type": "code",
   "execution_count": 8,
   "metadata": {},
   "outputs": [],
   "source": [
    "from keras.models import Input, Model\n",
    "from keras.layers import Conv3D, Concatenate, MaxPooling3D, Reshape\n",
    "from keras.layers import UpSampling3D, Activation, Permute\n",
    "\n",
    "def level_block_3d(m, dim, depth, factor, acti):\n",
    "    if depth > 0:\n",
    "        n = Conv3D(dim, 3, activation=acti, padding='same')(m)\n",
    "        m = MaxPooling3D()(n)\n",
    "        m = level_block_3d(m, int(factor*dim), depth-1, factor, acti)\n",
    "        m = UpSampling3D()(m)\n",
    "        m = Concatenate(axis=4)([n, m])\n",
    "    return Conv3D(dim, 3, activation=acti, padding='same')(m)\n",
    "\n",
    "def UNet_3D(img_shape, n_out=1, dim=64, depth=4, factor=2, acti='elu'):\n",
    "    i = Input(shape=img_shape)\n",
    "    o = level_block_3d(i, dim, depth, factor, acti)\n",
    "    o = Conv3D(n_out, 1, activation='sigmoid')(o)\n",
    "    return Model(inputs=i, outputs=o)"
   ]
  },
  {
   "cell_type": "code",
   "execution_count": 12,
   "metadata": {},
   "outputs": [],
   "source": [
    "import keras.backend as K\n",
    "def f1_score(y_true, y_pred):\n",
    "    y_true_f = K.flatten(y_true)\n",
    "    y_pred_f = K.flatten(y_pred)\n",
    "    intersection = K.sum(y_true_f * y_pred_f)\n",
    "    return (2. * intersection + 1.) / (K.sum(y_true_f) + K.sum(y_pred_f) + 1.)\n",
    "\n",
    "def f1_loss(y_true, y_pred):\n",
    "    return -f1_score(y_true, y_pred)"
   ]
  },
  {
   "cell_type": "code",
   "execution_count": 13,
   "metadata": {},
   "outputs": [],
   "source": [
    "model = UNet_3D(x.shape[1:], dim=16, factor=1)\n",
    "#model.load_weights('weights.h5')\n",
    "model.compile(optimizer=Adam(lr=0.000001), loss=f1_loss)"
   ]
  },
  {
   "cell_type": "code",
   "execution_count": 14,
   "metadata": {},
   "outputs": [
    {
     "name": "stdout",
     "output_type": "stream",
     "text": [
      "Train on 168 samples, validate on 42 samples\n",
      "Epoch 1/10\n",
      "168/168 [==============================] - 44s 264ms/step - loss: -0.0052 - val_loss: -0.0075\n",
      "Epoch 2/10\n",
      "168/168 [==============================] - 43s 255ms/step - loss: -0.0053 - val_loss: -0.0078\n",
      "Epoch 3/10\n",
      "168/168 [==============================] - 43s 257ms/step - loss: -0.0055 - val_loss: -0.0081\n",
      "Epoch 4/10\n",
      "168/168 [==============================] - 43s 256ms/step - loss: -0.0057 - val_loss: -0.0084\n",
      "Epoch 5/10\n",
      "168/168 [==============================] - 43s 256ms/step - loss: -0.0059 - val_loss: -0.0086\n",
      "Epoch 6/10\n",
      "168/168 [==============================] - 43s 256ms/step - loss: -0.0061 - val_loss: -0.0089\n",
      "Epoch 7/10\n",
      "168/168 [==============================] - 43s 256ms/step - loss: -0.0063 - val_loss: -0.0092\n",
      "Epoch 8/10\n",
      "168/168 [==============================] - 43s 256ms/step - loss: -0.0065 - val_loss: -0.0095\n",
      "Epoch 9/10\n",
      "168/168 [==============================] - 43s 257ms/step - loss: -0.0067 - val_loss: -0.0098\n",
      "Epoch 10/10\n",
      "168/168 [==============================] - 43s 255ms/step - loss: -0.0069 - val_loss: -0.0101\n"
     ]
    },
    {
     "data": {
      "text/plain": [
       "<keras.callbacks.History at 0x212a031f518>"
      ]
     },
     "execution_count": 14,
     "metadata": {},
     "output_type": "execute_result"
    }
   ],
   "source": [
    "\n",
    "\n",
    "model.fit(x, y, validation_split=0.2, epochs=10, batch_size=8, verbose=1)\n",
    "#model.save_weights('./weights.h5')"
   ]
  },
  {
   "cell_type": "code",
   "execution_count": 15,
   "metadata": {},
   "outputs": [],
   "source": [
    "model.save_weights('./weights.h5')"
   ]
  },
  {
   "cell_type": "code",
   "execution_count": 16,
   "metadata": {},
   "outputs": [],
   "source": [
    "pred = model.predict(x[:50])"
   ]
  },
  {
   "cell_type": "code",
   "execution_count": 17,
   "metadata": {},
   "outputs": [
    {
     "data": {
      "image/png": "[encoded data removed]",
      "text/plain": [
       "<Figure size 1080x720 with 3 Axes>"
      ]
     },
     "metadata": {
      "needs_background": "light"
     },
     "output_type": "display_data"
    },
    {
     "data": {
      "image/png": "[encoded data removed]",
      "text/plain": [
       "<Figure size 1080x720 with 3 Axes>"
      ]
     },
     "metadata": {
      "needs_background": "light"
     },
     "output_type": "display_data"
    },
    {
     "data": {
      "image/png": "[encoded data removed]",
      "text/plain": [
       "<Figure size 1080x720 with 3 Axes>"
      ]
     },
     "metadata": {
      "needs_background": "light"
     },
     "output_type": "display_data"
    }
   ],
   "source": [
    "import random as r\n",
    "num = int(x.shape[1]/2)\n",
    "for n in range(3):\n",
    "    i = int(r.random() * pred.shape[0])\n",
    "    plt.figure(figsize=(15,10))\n",
    "\n",
    "    plt.subplot(131)\n",
    "    plt.title('Input')\n",
    "    plt.imshow(x[i, num, :, :, 0])\n",
    "\n",
    "    plt.subplot(132)\n",
    "    plt.title('Ground Truth')\n",
    "    plt.imshow(y[i, num, :, :, 0])\n",
    "\n",
    "    plt.subplot(133)\n",
    "    plt.title('Prediction')\n",
    "    plt.imshow(pred[i, num, :, :, 0])\n",
    "\n",
    "    plt.show()"
   ]
  },
  {
   "cell_type": "code",
   "execution_count": null,
   "metadata": {},
   "outputs": [],
   "source": []
  },
  {
   "cell_type": "code",
   "execution_count": null,
   "metadata": {},
   "outputs": [],
   "source": []
  },
  {
   "cell_type": "code",
   "execution_count": null,
   "metadata": {},
   "outputs": [],
   "source": [
    "if 'session' in locals() and session is not None:\n",
    "    print('Close interactive session')\n",
    "    session.close()"
   ]
  },
  {
   "cell_type": "code",
   "execution_count": null,
   "metadata": {},
   "outputs": [],
   "source": [
    "# run the training\n",
    "config = tf.ConfigProto()\n",
    "config.gpu_options.allocator_type = 'BFC'\n",
    "config.gpu_options.allow_growth = True\n",
    "config.gpu_options.per_process_gpu_memory_fraction = 0.90\n",
    "#sess = tf.Session(config=config)\n",
    "#K.set_session(sess)"
   ]
  },
  {
   "cell_type": "code",
   "execution_count": null,
   "metadata": {},
   "outputs": [],
   "source": [
    "t2_model.compile(loss=keras.losses.binary_crossentropy,  #using binary_crossentropy as we are solving binary classification problem\n",
    "              optimizer=keras.optimizers.Adam(),\n",
    "              metrics=['accuracy', mean_pred, metrics.mae])\n",
    "\n",
    "t2_history=t2_model.fit({'inp1':t2_X, 'zone': t2_Z},\n",
    "          {'out': t2_Y},\n",
    "          epochs=10, batch_size=25,validation_split=0.25,shuffle=True, callbacks=callbacks)\n",
    "\n",
    "\n",
    "import keras.backend as K\n",
    "def f1_score(y_true, y_pred):\n",
    "    y_true_f = K.flatten(y_true)\n",
    "    y_pred_f = K.flatten(y_pred)\n",
    "    intersection = K.sum(y_true_f * y_pred_f)\n",
    "    return (2. * intersection + 1.) / (K.sum(y_true_f) + K.sum(y_pred_f) + 1.)\n",
    "\n",
    "def f1_loss(y_true, y_pred):\n",
    "    return -f1_score(y_true, y_pred)"
   ]
  }
 ],
 "metadata": {
  "kernelspec": {
   "display_name": "Python 3",
   "language": "python",
   "name": "python3"
  },
  "language_info": {
   "codemirror_mode": {
    "name": "ipython",
    "version": 3
   },
   "file_extension": ".py",
   "mimetype": "text/x-python",
   "name": "python",
   "nbconvert_exporter": "python",
   "pygments_lexer": "ipython3",
   "version": "3.7.0"
  }
 },
 "nbformat": 4,
 "nbformat_minor": 2
}
