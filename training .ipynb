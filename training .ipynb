{
 "cells": [
  {
   "cell_type": "code",
   "execution_count": 2,
   "metadata": {},
   "outputs": [
    {
     "name": "stderr",
     "output_type": "stream",
     "text": [
      "Using TensorFlow backend.\n"
     ]
    }
   ],
   "source": [
    "import tensorflow as tf\n",
    "import keras\n",
    "from keras.models import Sequential\n",
    "from keras.layers import Dense, Dropout, Flatten\n",
    "from keras.layers import Conv2D, MaxPooling2D, concatenate\n",
    "from keras.layers import Input, Conv2DTranspose\n",
    "from keras.models import Model\n",
    "from ipykernel import kernelapp as app\n",
    "from keras import optimizers\n",
    "from keras.regularizers import l2\n",
    "#from keras import backend as K\n",
    "\n",
    "from keras.wrappers.scikit_learn import KerasClassifier\n",
    "from sklearn.model_selection import cross_val_score\n",
    "from sklearn.preprocessing import LabelEncoder\n",
    "from sklearn.model_selection import StratifiedKFold\n",
    "from sklearn.preprocessing import StandardScaler\n",
    "from sklearn.pipeline import Pipeline\n",
    "from sklearn.model_selection import train_test_split\n",
    "from sklearn.preprocessing import scale\n",
    "\n",
    "from keras.preprocessing.image import ImageDataGenerator\n",
    "from keras.applications.vgg16 import VGG16\n",
    "from keras.utils import np_utils\n",
    "from keras.layers.normalization import BatchNormalization\n",
    "\n"
   ]
  },
  {
   "cell_type": "code",
   "execution_count": 3,
   "metadata": {},
   "outputs": [],
   "source": [
    "\n",
    "import sys\n",
    "import SimpleITK as sitk\n",
    "import matplotlib.pyplot as plt\n",
    "from matplotlib.gridspec import GridSpec\n",
    "%matplotlib inline \n",
    "import numpy as np\n",
    "import os\n",
    "import fnmatch\n",
    "import shutil\n",
    "from ipywidgets import interact, fixed\n",
    "import pandas as pd\n",
    "import warnings\n",
    "from skimage import exposure\n",
    "from skimage import data\n",
    "from skimage.transform import rotate\n",
    "import _pickle as cPickle\n",
    "import random\n",
    "\n",
    "\n",
    "\n",
    "def myshow(image_arr,slice_n):\n",
    "    plt.imshow(image_arr[slice_n,:,:],cmap='gray')\n",
    "    plt.show()"
   ]
  },
  {
   "cell_type": "code",
   "execution_count": 4,
   "metadata": {},
   "outputs": [],
   "source": [
    "df=pd.read_pickle('e://Image Processing/Brats Project/im+masks.pkl')\n",
    "\n",
    "def get_arrays(data, column=['X', 'Y']):\n",
    "    \n",
    "    x=np.array([i for i in data[column[0]]]) #array of images\n",
    "    y=np.array([i for i in data[column[1]]])#array for labels\n",
    "    \n",
    "    return x,y \n",
    "\n",
    "PATH_images='e://Image Processing/Brats Project/data/images/'\n",
    "PATH_masks='e://Image Processing/Brats Project/data/masks/'"
   ]
  },
  {
   "cell_type": "code",
   "execution_count": 5,
   "metadata": {},
   "outputs": [],
   "source": [
    "new_cols=['X', 'Y_1', 'Y_2', 'Y_3']\n",
    "df.columns=new_cols"
   ]
  },
  {
   "cell_type": "code",
   "execution_count": null,
   "metadata": {},
   "outputs": [],
   "source": []
  },
  {
   "cell_type": "code",
   "execution_count": null,
   "metadata": {},
   "outputs": [],
   "source": []
  },
  {
   "cell_type": "code",
   "execution_count": 6,
   "metadata": {},
   "outputs": [],
   "source": [
    "#getting arrays from columns \n",
    "\n",
    "train, test = train_test_split(df, test_size=0.20)\n",
    "\n",
    "x_train, y_train = get_arrays(train, column=['X', 'Y_1'])\n",
    "x_test, y_test = get_arrays(test, column=['X', 'Y_1'])"
   ]
  },
  {
   "cell_type": "code",
   "execution_count": null,
   "metadata": {},
   "outputs": [],
   "source": []
  },
  {
   "cell_type": "code",
   "execution_count": null,
   "metadata": {},
   "outputs": [],
   "source": []
  },
  {
   "cell_type": "code",
   "execution_count": null,
   "metadata": {},
   "outputs": [],
   "source": []
  },
  {
   "cell_type": "code",
   "execution_count": null,
   "metadata": {},
   "outputs": [],
   "source": []
  },
  {
   "cell_type": "code",
   "execution_count": null,
   "metadata": {},
   "outputs": [],
   "source": []
  },
  {
   "cell_type": "code",
   "execution_count": null,
   "metadata": {},
   "outputs": [],
   "source": [
    "tf.cast(image, tf.float32)"
   ]
  },
  {
   "cell_type": "code",
   "execution_count": 15,
   "metadata": {},
   "outputs": [],
   "source": [
    "# create the training datasets\n",
    "dx_train = tf.data.Dataset.from_tensor_slices(tf.cast(x_train,tf.float32))\n",
    "\n",
    "# apply a one-hot transformation to each label for use in the neural network\n",
    "dy_train = tf.data.Dataset.from_tensor_slices(y_train).map(lambda z: tf.one_hot(z, 2))\n",
    "\n",
    "# zip the x and y training data together and shuffle, batch etc.\n",
    "train_dataset = tf.data.Dataset.zip((dx_train, dy_train)).shuffle(500).repeat().batch(30)"
   ]
  },
  {
   "cell_type": "code",
   "execution_count": null,
   "metadata": {},
   "outputs": [],
   "source": [
    "train_dataset"
   ]
  },
  {
   "cell_type": "code",
   "execution_count": 16,
   "metadata": {},
   "outputs": [],
   "source": [
    "# do the same operations for the validation set\n",
    "dx_valid = tf.data.Dataset.from_tensor_slices(tf.cast(x_test,tf.float32))\n",
    "dy_valid = tf.data.Dataset.from_tensor_slices(y_test).map(lambda z: tf.one_hot(z, 2))\n",
    "valid_dataset = tf.data.Dataset.zip((dx_valid, dy_valid)).shuffle(500).repeat().batch(30)"
   ]
  },
  {
   "cell_type": "code",
   "execution_count": null,
   "metadata": {},
   "outputs": [],
   "source": [
    "valid_dataset "
   ]
  },
  {
   "cell_type": "code",
   "execution_count": 17,
   "metadata": {},
   "outputs": [],
   "source": [
    "# create general iterator\n",
    "iterator = tf.data.Iterator.from_structure(train_dataset.output_types,\n",
    "                                               train_dataset.output_shapes)\n",
    "next_element = iterator.get_next()"
   ]
  },
  {
   "cell_type": "code",
   "execution_count": 18,
   "metadata": {},
   "outputs": [],
   "source": [
    "# make datasets that we can initialize separately, but using the same structure via the common iterator\n",
    "training_init_op = iterator.make_initializer(train_dataset)\n",
    "validation_init_op = iterator.make_initializer(valid_dataset)"
   ]
  },
  {
   "cell_type": "code",
   "execution_count": null,
   "metadata": {},
   "outputs": [],
   "source": [
    "train_dataset"
   ]
  },
  {
   "cell_type": "code",
   "execution_count": 19,
   "metadata": {},
   "outputs": [],
   "source": [
    "def nn_model(in_data):\n",
    "    bn = tf.layers.batch_normalization(in_data)\n",
    "    fc1 = tf.layers.dense(bn, 50)\n",
    "    fc2 = tf.layers.dense(fc1, 50)\n",
    "    fc2 = tf.layers.dropout(fc2)\n",
    "    fc3 = tf.layers.dense(fc2, 2)\n",
    "    \n",
    "    \n",
    "    return fc3"
   ]
  },
  {
   "cell_type": "code",
   "execution_count": 20,
   "metadata": {},
   "outputs": [],
   "source": [
    "# create the neural network model\n",
    "logits = nn_model(next_element[0])"
   ]
  },
  {
   "cell_type": "code",
   "execution_count": 21,
   "metadata": {},
   "outputs": [],
   "source": [
    "# add the optimizer and loss\n",
    "loss = tf.reduce_sum(tf.nn.softmax_cross_entropy_with_logits_v2(labels=next_element[1], logits=logits))\n",
    "optimizer = tf.train.AdamOptimizer().minimize(loss)\n",
    "# get accuracy\n",
    "prediction = tf.argmax(logits, 1)\n",
    "equality = tf.equal(prediction, tf.argmax(next_element[1], 1))\n",
    "accuracy = tf.reduce_mean(tf.cast(equality, tf.float32))\n",
    "init_op = tf.global_variables_initializer()"
   ]
  },
  {
   "cell_type": "code",
   "execution_count": 22,
   "metadata": {},
   "outputs": [
    {
     "name": "stdout",
     "output_type": "stream",
     "text": [
      "Epoch: 0, loss: 1906237.500, training accuracy: 54.96%\n",
      "Epoch: 1, loss: 587205.750, training accuracy: 52.54%\n",
      "Epoch: 2, loss: 268668.406, training accuracy: 54.43%\n",
      "Epoch: 3, loss: 309623.219, training accuracy: 49.82%\n",
      "Epoch: 4, loss: 283562.531, training accuracy: 55.28%\n",
      "Epoch: 5, loss: 272216.500, training accuracy: 59.40%\n",
      "Epoch: 6, loss: 386269.844, training accuracy: 58.86%\n",
      "Epoch: 7, loss: 304664.156, training accuracy: 69.90%\n",
      "Epoch: 8, loss: 393361.688, training accuracy: 64.79%\n",
      "Epoch: 9, loss: 614823.750, training accuracy: 66.72%\n",
      "Average validation set accuracy over 10 iterations is 68.33%\n"
     ]
    }
   ],
   "source": [
    "# run the training\n",
    "config = tf.ConfigProto()\n",
    "config.gpu_options.allocator_type = 'BFC'\n",
    "config.gpu_options.allow_growth = True\n",
    "config.gpu_options.per_process_gpu_memory_fraction = 0.90\n",
    "#sess = tf.Session(config=config)\n",
    "#K.set_session(sess)\n",
    "\n",
    "\n",
    "\n",
    "\n",
    "epochs = 10\n",
    "with tf.Session(config=config) as sess:\n",
    "    sess.run(init_op)\n",
    "    sess.run(training_init_op)\n",
    "    for i in range(epochs):\n",
    "        l, _, acc = sess.run([loss, optimizer, accuracy])\n",
    "        \n",
    "        print(\"Epoch: {}, loss: {:.3f}, training accuracy: {:.2f}%\".format(i, l, acc * 100))\n",
    "    # now setup the validation run\n",
    "    valid_iters = 10\n",
    "    # re-initialize the iterator, but this time with validation data\n",
    "    sess.run(validation_init_op)\n",
    "    avg_acc = 0\n",
    "    for i in range(valid_iters):\n",
    "        acc = sess.run([accuracy])\n",
    "        avg_acc += acc[0]\n",
    "    print(\"Average validation set accuracy over {} iterations is {:.2f}%\".format(valid_iters,(avg_acc / valid_iters) * 100))"
   ]
  },
  {
   "cell_type": "code",
   "execution_count": null,
   "metadata": {},
   "outputs": [],
   "source": []
  },
  {
   "cell_type": "code",
   "execution_count": null,
   "metadata": {},
   "outputs": [],
   "source": []
  },
  {
   "cell_type": "code",
   "execution_count": null,
   "metadata": {},
   "outputs": [],
   "source": []
  },
  {
   "cell_type": "code",
   "execution_count": null,
   "metadata": {},
   "outputs": [],
   "source": [
    "def vox_preprocess(vox):\n",
    "    vox_shape = vox.shape\n",
    "    vox = np.reshape(vox, (-1, vox_shape[-1]))\n",
    "    vox = scale(vox, axis=0)\n",
    "    return np.reshape(vox, vox_shape)\n"
   ]
  },
  {
   "cell_type": "code",
   "execution_count": null,
   "metadata": {},
   "outputs": [],
   "source": [
    "y_train.shape"
   ]
  },
  {
   "cell_type": "code",
   "execution_count": null,
   "metadata": {},
   "outputs": [],
   "source": [
    "num_classees=2\n",
    "a = vox_preprocess(y_train)\n"
   ]
  },
  {
   "cell_type": "code",
   "execution_count": 1,
   "metadata": {},
   "outputs": [
    {
     "ename": "NameError",
     "evalue": "name 'a' is not defined",
     "output_type": "error",
     "traceback": [
      "\u001b[1;31m---------------------------------------------------------------------------\u001b[0m",
      "\u001b[1;31mNameError\u001b[0m                                 Traceback (most recent call last)",
      "\u001b[1;32m<ipython-input-1-d74f1bcdd37c>\u001b[0m in \u001b[0;36m<module>\u001b[1;34m\u001b[0m\n\u001b[1;32m----> 1\u001b[1;33m \u001b[0ma\u001b[0m\u001b[1;33m.\u001b[0m\u001b[0mshape\u001b[0m\u001b[1;33m\u001b[0m\u001b[1;33m\u001b[0m\u001b[0m\n\u001b[0m",
      "\u001b[1;31mNameError\u001b[0m: name 'a' is not defined"
     ]
    }
   ],
   "source": [
    "a.shape"
   ]
  },
  {
   "cell_type": "code",
   "execution_count": null,
   "metadata": {},
   "outputs": [],
   "source": [
    "imgs_train = x_train.astype('float32') \n",
    "imgs_val = x_test.astype('float32')\n",
    "imgs_train /= 255. \n",
    "imgs_val /= 255.\n",
    "    # imgs_train_1 = imgs_train[:, :, :, 0]\n",
    "    # imgs_train_1 = imgs_train_1[..., np.newaxis]\n",
    "    # print(imgs_train_1.shape)\n",
    "    \n",
    "    # define data preparation\n",
    "batch_size = 12\n",
    "datagen = ImageDataGenerator(featurewise_center=True,\n",
    "                                featurewise_std_normalization=True,\n",
    "                                 rotation_range=20, # rescale=1./255,\n",
    "                                 width_shift_range=0.1, height_shift_range=0.1,\n",
    "                                 horizontal_flip=True, vertical_flip=True,                                 \n",
    "                                 shear_range=0.2, fill_mode='nearest')\n",
    "#==============================================================================\n",
    "#     datagen = ImageDataGenerator(rotation_range=20, # rescale=1./255,\n",
    "#                                  width_shift_range=0.1, height_shift_range=0.1,\n",
    "#                                  horizontal_flip=True, vertical_flip=True,                                 \n",
    "#                                  shear_range=0.2, fill_mode='nearest')\n",
    "#==============================================================================\n",
    "# fit parameters from data\n",
    "datagen.fit(imgs_train)     \n",
    "# datagen.fit(imgs_train_1)\n",
    "train_generator = datagen.flow(imgs_train, Y, batch_size=batch_size)"
   ]
  },
  {
   "cell_type": "code",
   "execution_count": null,
   "metadata": {},
   "outputs": [],
   "source": [
    "# this is the augmentation configuration we will use for testing:\n",
    "val_datagen = ImageDataGenerator(featurewise_center=True,\n",
    "                                     featurewise_std_normalization=True)\n",
    "                                     # rescale=1./255)\n",
    "# val_datagen = ImageDataGenerator(rescale=1./255)\n",
    "    \n",
    "# fit parameters from data\n",
    "val_datagen.fit(imgs_val) \n",
    "# val_datagen.fit(imgs_train)   \n",
    "val_generator = val_datagen.flow(imgs_val, Y_test, batch_size=batch_size)\n",
    "# datagen.standardize(imgs_val)"
   ]
  },
  {
   "cell_type": "code",
   "execution_count": null,
   "metadata": {},
   "outputs": [],
   "source": [
    "y_tr_0=np.reshape(y_train[150], 120*120).astype('int32')\n",
    "y_tr_0 = np_utils.to_categorical(y_tr_0, 2)\n",
    "y_tr_0=y_tr_0[np.newaxis, ...]"
   ]
  },
  {
   "cell_type": "code",
   "execution_count": null,
   "metadata": {},
   "outputs": [],
   "source": [
    "def make_labels(labels):\n",
    "    new_labels=np.empty((labels.shape[0], 120*120, 2), dtype='int32')\n",
    "    \n",
    "    for i,y in enumerate(labels):\n",
    "        im=np.reshape(y, 120*120).astype('int32')\n",
    "        im=np_utils.to_categorical(im, 2)\n",
    "        im=im[np.newaxis, ...]\n",
    "        new_labels[i]=im\n",
    "    return new_labels"
   ]
  },
  {
   "cell_type": "code",
   "execution_count": null,
   "metadata": {},
   "outputs": [],
   "source": [
    "Y=make_labels(y_train)\n",
    "Y_test=make_labels(y_test)"
   ]
  },
  {
   "cell_type": "code",
   "execution_count": null,
   "metadata": {},
   "outputs": [],
   "source": [
    "generator = train_datagen.flow_from_directory(y_train, batch_size=32)\n",
    "#just call\n",
    "\n",
    "y_true_labels = generator.classes"
   ]
  },
  {
   "cell_type": "code",
   "execution_count": null,
   "metadata": {},
   "outputs": [],
   "source": [
    "import keras.backend as K\n",
    "def f1_score(y_true, y_pred):\n",
    "    y_true_f = K.flatten(y_true)\n",
    "    y_pred_f = K.flatten(y_pred)\n",
    "    intersection = K.sum(y_true_f * y_pred_f)\n",
    "    return (2. * intersection + 1.) / (K.sum(y_true_f) + K.sum(y_pred_f) + 1.)\n",
    "\n",
    "def f1_loss(y_true, y_pred):\n",
    "    return -f1_score(y_true, y_pred)"
   ]
  },
  {
   "cell_type": "code",
   "execution_count": null,
   "metadata": {},
   "outputs": [],
   "source": [
    "#epochs = 3\n",
    "\n",
    "#Adam = keras.optimizers.Adam(lr=0.002, beta_1=0.9, beta_2=0.999, epsilon= 0.001,decay=0.00, amsgrad=False)\n",
    "#my_model.compile(optimizer=Adam, loss ='categorical_crossentropy', metrics=['accuracy'])\n",
    "my_model = cnnBRATsInit_unet()\n",
    "my_model.fit_generator(train_generator, steps_per_epoch=(imgs_train.shape[0] // batch_size) + 1, epochs=20,                        \n",
    "                                  verbose=1,\n",
    "                                  validation_data=val_generator,\n",
    "                                  validation_steps=(imgs_val.shape[0] // batch_size) + 1)\n",
    "\n",
    "score = my_model.evaluate(val_generator, batch_size=32)\n",
    "my_model.metrics_names , score"
   ]
  },
  {
   "cell_type": "code",
   "execution_count": null,
   "metadata": {},
   "outputs": [],
   "source": [
    "vgg_model = keras.applications.vgg16.VGG16(include_top=False, weights='imagenet')\n"
   ]
  },
  {
   "cell_type": "code",
   "execution_count": null,
   "metadata": {},
   "outputs": [],
   "source": [
    "input = Input(shape=(120,120,3),name = 'image_input')\n",
    "\n",
    "#Use the generated model \n",
    "input_nor = BatchNormalization()(input)\n",
    "output_vgg16_conv = vgg_model(input_nor)\n",
    "\n",
    "#Add the fully-connected layers \n",
    "x = Flatten(name='flatten')(output_vgg16_conv)\n",
    "x = Dense(4096, activation='relu', name='fc1')(x)\n",
    "x = Dense(4096, activation='relu', name='fc2')(x)\n",
    "x = Dense(5, activation='softmax', name='predictions')(x)\n",
    "\n",
    "#Create your own model \n",
    "my_model = Model(input=input, output=x)\n",
    "\n",
    "#In the summary, weights and layers from VGG part will be hidden, but they will be fit during the training\n",
    "#my_model.summary()"
   ]
  }
 ],
 "metadata": {
  "kernelspec": {
   "display_name": "Python 3",
   "language": "python",
   "name": "python3"
  },
  "language_info": {
   "codemirror_mode": {
    "name": "ipython",
    "version": 3
   },
   "file_extension": ".py",
   "mimetype": "text/x-python",
   "name": "python",
   "nbconvert_exporter": "python",
   "pygments_lexer": "ipython3",
   "version": "3.7.0"
  }
 },
 "nbformat": 4,
 "nbformat_minor": 2
}
