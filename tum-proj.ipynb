{
 "cells": [
  {
   "cell_type": "code",
   "execution_count": 68,
   "metadata": {},
   "outputs": [],
   "source": [
    "import sys\n",
    "import SimpleITK as sitk\n",
    "import matplotlib.pyplot as plt\n",
    "%matplotlib inline \n",
    "import numpy as np\n",
    "import os\n",
    "import fnmatch\n",
    "import shutil\n",
    "from ipywidgets import interact, fixed\n",
    "import pandas as pd\n",
    "from pathlib import Path"
   ]
  },
  {
   "cell_type": "code",
   "execution_count": 2,
   "metadata": {},
   "outputs": [],
   "source": [
    "#function for showing volume images\n",
    "def myshow(image_arr,slice_n):\n",
    "    plt.imshow(image_arr[slice_n,:,:],cmap='gray')\n",
    "    plt.show()"
   ]
  },
  {
   "cell_type": "code",
   "execution_count": 3,
   "metadata": {},
   "outputs": [
    {
     "data": {
      "text/html": [
       "<div>\n",
       "<style scoped>\n",
       "    .dataframe tbody tr th:only-of-type {\n",
       "        vertical-align: middle;\n",
       "    }\n",
       "\n",
       "    .dataframe tbody tr th {\n",
       "        vertical-align: top;\n",
       "    }\n",
       "\n",
       "    .dataframe thead th {\n",
       "        text-align: right;\n",
       "    }\n",
       "</style>\n",
       "<table border=\"1\" class=\"dataframe\">\n",
       "  <thead>\n",
       "    <tr style=\"text-align: right;\">\n",
       "      <th></th>\n",
       "      <th>BraTS18ID</th>\n",
       "      <th>Age</th>\n",
       "      <th>Survival</th>\n",
       "      <th>ResectionStatus</th>\n",
       "    </tr>\n",
       "  </thead>\n",
       "  <tbody>\n",
       "    <tr>\n",
       "      <th>0</th>\n",
       "      <td>Brats18_TCIA08_167_1</td>\n",
       "      <td>74.907</td>\n",
       "      <td>153</td>\n",
       "      <td>NaN</td>\n",
       "    </tr>\n",
       "    <tr>\n",
       "      <th>1</th>\n",
       "      <td>Brats18_TCIA08_242_1</td>\n",
       "      <td>66.479</td>\n",
       "      <td>147</td>\n",
       "      <td>NaN</td>\n",
       "    </tr>\n",
       "    <tr>\n",
       "      <th>2</th>\n",
       "      <td>Brats18_TCIA08_319_1</td>\n",
       "      <td>64.860</td>\n",
       "      <td>254</td>\n",
       "      <td>NaN</td>\n",
       "    </tr>\n",
       "    <tr>\n",
       "      <th>3</th>\n",
       "      <td>Brats18_TCIA08_469_1</td>\n",
       "      <td>63.899</td>\n",
       "      <td>519</td>\n",
       "      <td>NaN</td>\n",
       "    </tr>\n",
       "    <tr>\n",
       "      <th>4</th>\n",
       "      <td>Brats18_TCIA08_218_1</td>\n",
       "      <td>57.345</td>\n",
       "      <td>346</td>\n",
       "      <td>NaN</td>\n",
       "    </tr>\n",
       "    <tr>\n",
       "      <th>5</th>\n",
       "      <td>Brats18_TCIA08_406_1</td>\n",
       "      <td>78.745</td>\n",
       "      <td>82</td>\n",
       "      <td>NaN</td>\n",
       "    </tr>\n",
       "    <tr>\n",
       "      <th>6</th>\n",
       "      <td>Brats18_TCIA08_280_1</td>\n",
       "      <td>57.362</td>\n",
       "      <td>508</td>\n",
       "      <td>NaN</td>\n",
       "    </tr>\n",
       "    <tr>\n",
       "      <th>7</th>\n",
       "      <td>Brats18_TCIA08_105_1</td>\n",
       "      <td>66.627</td>\n",
       "      <td>77</td>\n",
       "      <td>NaN</td>\n",
       "    </tr>\n",
       "    <tr>\n",
       "      <th>8</th>\n",
       "      <td>Brats18_TCIA08_278_1</td>\n",
       "      <td>50.501</td>\n",
       "      <td>1458</td>\n",
       "      <td>NaN</td>\n",
       "    </tr>\n",
       "    <tr>\n",
       "      <th>9</th>\n",
       "      <td>Brats18_TCIA06_247_1</td>\n",
       "      <td>76.699</td>\n",
       "      <td>244</td>\n",
       "      <td>NaN</td>\n",
       "    </tr>\n",
       "  </tbody>\n",
       "</table>\n",
       "</div>"
      ],
      "text/plain": [
       "              BraTS18ID     Age  Survival ResectionStatus\n",
       "0  Brats18_TCIA08_167_1  74.907       153             NaN\n",
       "1  Brats18_TCIA08_242_1  66.479       147             NaN\n",
       "2  Brats18_TCIA08_319_1  64.860       254             NaN\n",
       "3  Brats18_TCIA08_469_1  63.899       519             NaN\n",
       "4  Brats18_TCIA08_218_1  57.345       346             NaN\n",
       "5  Brats18_TCIA08_406_1  78.745        82             NaN\n",
       "6  Brats18_TCIA08_280_1  57.362       508             NaN\n",
       "7  Brats18_TCIA08_105_1  66.627        77             NaN\n",
       "8  Brats18_TCIA08_278_1  50.501      1458             NaN\n",
       "9  Brats18_TCIA06_247_1  76.699       244             NaN"
      ]
     },
     "execution_count": 3,
     "metadata": {},
     "output_type": "execute_result"
    }
   ],
   "source": [
    "data = pd.read_csv('C://Image Processing/brats data/MICCAI_BraTS_2018_Data_Training/survival_data.csv')\n",
    "data.head(10)"
   ]
  },
  {
   "cell_type": "code",
   "execution_count": 4,
   "metadata": {
    "scrolled": true
   },
   "outputs": [
    {
     "data": {
      "text/html": [
       "<div>\n",
       "<style scoped>\n",
       "    .dataframe tbody tr th:only-of-type {\n",
       "        vertical-align: middle;\n",
       "    }\n",
       "\n",
       "    .dataframe tbody tr th {\n",
       "        vertical-align: top;\n",
       "    }\n",
       "\n",
       "    .dataframe thead th {\n",
       "        text-align: right;\n",
       "    }\n",
       "</style>\n",
       "<table border=\"1\" class=\"dataframe\">\n",
       "  <thead>\n",
       "    <tr style=\"text-align: right;\">\n",
       "      <th></th>\n",
       "      <th>BraTS18ID</th>\n",
       "      <th>Age</th>\n",
       "      <th>Survival</th>\n",
       "      <th>ResectionStatus</th>\n",
       "    </tr>\n",
       "  </thead>\n",
       "  <tbody>\n",
       "    <tr>\n",
       "      <th>34</th>\n",
       "      <td>Brats18_TCIA03_121_1</td>\n",
       "      <td>30.408</td>\n",
       "      <td>747</td>\n",
       "      <td>NaN</td>\n",
       "    </tr>\n",
       "    <tr>\n",
       "      <th>72</th>\n",
       "      <td>Brats18_TCIA01_186_1</td>\n",
       "      <td>33.888</td>\n",
       "      <td>370</td>\n",
       "      <td>NaN</td>\n",
       "    </tr>\n",
       "    <tr>\n",
       "      <th>73</th>\n",
       "      <td>Brats18_TCIA01_460_1</td>\n",
       "      <td>18.975</td>\n",
       "      <td>630</td>\n",
       "      <td>NaN</td>\n",
       "    </tr>\n",
       "    <tr>\n",
       "      <th>76</th>\n",
       "      <td>Brats18_2013_11_1</td>\n",
       "      <td>29.120</td>\n",
       "      <td>150</td>\n",
       "      <td>GTR</td>\n",
       "    </tr>\n",
       "    <tr>\n",
       "      <th>92</th>\n",
       "      <td>Brats18_CBICA_AXJ_1</td>\n",
       "      <td>27.811</td>\n",
       "      <td>1767</td>\n",
       "      <td>GTR</td>\n",
       "    </tr>\n",
       "  </tbody>\n",
       "</table>\n",
       "</div>"
      ],
      "text/plain": [
       "               BraTS18ID     Age  Survival ResectionStatus\n",
       "34  Brats18_TCIA03_121_1  30.408       747             NaN\n",
       "72  Brats18_TCIA01_186_1  33.888       370             NaN\n",
       "73  Brats18_TCIA01_460_1  18.975       630             NaN\n",
       "76     Brats18_2013_11_1  29.120       150             GTR\n",
       "92   Brats18_CBICA_AXJ_1  27.811      1767             GTR"
      ]
     },
     "execution_count": 4,
     "metadata": {},
     "output_type": "execute_result"
    }
   ],
   "source": [
    "data.loc[data.Age<35]"
   ]
  },
  {
   "cell_type": "code",
   "execution_count": 83,
   "metadata": {},
   "outputs": [],
   "source": [
    "#making separate directories for different modalities in order\n",
    "path = 'C://Image Processing/brats data/MICCAI_BraTS_2018_Data_Training/'\n",
    "path_HGG = 'C://Image Processing/brats data/new/HGG/'\n",
    "path_LGG = 'C://Image Processing/brats data/new/LGG/'\n",
    "list_of_dirs = ['t1','T1Gd','t2','flair']\n",
    "\n",
    "def make_my_dirs(directory, names):\n",
    "    for i in names: \n",
    "        os.makedirs(directory+i, exist_ok = True)\n",
    "\n",
    "make_my_dirs(path_HGG, list_of_dirs)\n",
    "make_my_dirs(path_LGG, list_of_dirs)"
   ]
  },
  {
   "cell_type": "code",
   "execution_count": 120,
   "metadata": {},
   "outputs": [],
   "source": [
    "#creating lists with images of different modalities\n",
    "\n",
    "common_list = []\n",
    "t2_list = []\n",
    "t1_list = []\n",
    "t1ce_list = []\n",
    "flair_list = []\n",
    "for (dirpath, dirnames, filenames) in os.walk('C://Image Processing/brats data/MICCAI_BraTS_2018_Data_Training/'):\n",
    "    for filename in filenames: \n",
    "        if filename.endswith('csv')==False and 'seg' not in filename.split('.')[0]:\n",
    "            if 't2' in filename.split('.')[0]: \n",
    "                t2_list.append(os.path.join(dirpath,filename))\n",
    "            elif 't1' in filename.split('.')[0] and 't1ce' not in filename.split('.')[0]:\n",
    "                t1_list.append(os.path.join(dirpath,filename))\n",
    "            elif 't1ce' in filename.split('.')[0]:\n",
    "                t1ce_list.append(os.path.join(dirpath,filename))\n",
    "            elif 'flair' in filename.split('.')[0]:\n",
    "                flair_list.append(os.path.join(dirpath,filename))"
   ]
  },
  {
   "cell_type": "code",
   "execution_count": 110,
   "metadata": {},
   "outputs": [],
   "source": [
    "def plot_spacing(l):\n",
    "    ''' \n",
    "\n",
    "    this function helps to plot spacing histograms \n",
    "    \n",
    "    l = list with files` paths \n",
    "\n",
    "\n",
    "    '''    \n",
    "    temp_list=[]\n",
    "    \n",
    "    for image in l:\n",
    "        image_read=sitk.ReadImage(image)\n",
    "        value=list(image_read.GetSpacing())\n",
    "        value = [round(i,2) for i in value ]\n",
    "        temp_list.append((str(value)).strip('[]'))\n",
    "\n",
    "    \n",
    "    temp_df=pd.DataFrame(temp_list)\n",
    "    \n",
    "    \n",
    "    plt.figure(figsize=(12,7))\n",
    "    plt.suptitle('Pixel Spacing (x,y,z) for',fontsize=20)\n",
    "    ax=temp_df[0].value_counts().plot(kind='bar')\n",
    "    ax.set_xlabel('pixel spacing (x,y,z) in mm',fontsize='large')\n",
    "    ax.set_ylabel('patients count',fontsize='large')\n",
    "    plt.show()\n",
    "\n",
    "\n",
    "\n",
    "def plot_size(l):\n",
    "    '''\n",
    "    this function helps to plot size histograms \n",
    "    \n",
    "    l = list with files` paths\n",
    "    '''\n",
    "    temp_list=[]\n",
    "    \n",
    "    for image in l:\n",
    "        image_read=sitk.ReadImage(image)\n",
    "        value=list(image_read.GetSize())\n",
    "        value = [round(i,2) for i in value ]\n",
    "        temp_list.append((str(value)).strip('[]'))\n",
    "\n",
    "    \n",
    "    temp_df=pd.DataFrame(temp_list)\n",
    "    \n",
    "    \n",
    "    plt.figure(figsize=(12,7))\n",
    "    plt.suptitle('Size for',fontsize=20)\n",
    "    ax=temp_df[0].value_counts().plot(kind='bar')\n",
    "    ax.set_xlabel('Size ',fontsize='large')\n",
    "    ax.set_ylabel('patients count',fontsize='large')\n",
    "    plt.show()"
   ]
  },
  {
   "cell_type": "code",
   "execution_count": 111,
   "metadata": {},
   "outputs": [
    {
     "data": {
      "image/png": "[encoded data removed]",
      "text/plain": [
       "<Figure size 864x504 with 1 Axes>"
      ]
     },
     "metadata": {},
     "output_type": "display_data"
    },
    {
     "data": {
      "image/png": "[encoded data removed]",
      "text/plain": [
       "<Figure size 864x504 with 1 Axes>"
      ]
     },
     "metadata": {},
     "output_type": "display_data"
    }
   ],
   "source": [
    "plot_spacing(common_list)\n",
    "plot_size(common_list)"
   ]
  },
  {
   "cell_type": "code",
   "execution_count": 189,
   "metadata": {},
   "outputs": [],
   "source": [
    "#lists of paths for all modalities\n",
    "im1 = sitk.ReadImage(t2_list[0])\n",
    "im_arr_1 = sitk.GetArrayFromImage(im1)"
   ]
  },
  {
   "cell_type": "code",
   "execution_count": 192,
   "metadata": {},
   "outputs": [
    {
     "data": {
      "image/png": "[encoded data removed]",
      "text/plain": [
       "<Figure size 432x288 with 1 Axes>"
      ]
     },
     "metadata": {},
     "output_type": "display_data"
    }
   ],
   "source": [
    "sl_62 = im_arr_1[62,:,:]\n",
    "#myshow(im_arr_1, 62)\n",
    "plt.imshow(sl_62,cmap = 'gray')\n",
    "\n",
    "sl_62 = sitk.GetImageFromArray(sl_62)"
   ]
  },
  {
   "cell_type": "code",
   "execution_count": 193,
   "metadata": {},
   "outputs": [
    {
     "data": {
      "text/plain": [
       "SimpleITK.SimpleITK.Image"
      ]
     },
     "execution_count": 193,
     "metadata": {},
     "output_type": "execute_result"
    }
   ],
   "source": [
    "type(sl_62)"
   ]
  },
  {
   "cell_type": "code",
   "execution_count": 195,
   "metadata": {},
   "outputs": [
    {
     "data": {
      "text/plain": [
       "(0.0, 0.0)"
      ]
     },
     "execution_count": 195,
     "metadata": {},
     "output_type": "execute_result"
    }
   ],
   "source": [
    "sl_62.GetOrigin()"
   ]
  },
  {
   "cell_type": "code",
   "execution_count": 202,
   "metadata": {},
   "outputs": [],
   "source": [
    "coordinates = [17, 11]\n",
    "\n",
    "extract = sitk.ExtractImageFilter()\n",
    "extract.SetSize([32,32])\n",
    "extract.SetIndex([150,150])\n",
    "extracted_image = extract.Execute(sl_62)\n"
   ]
  },
  {
   "cell_type": "code",
   "execution_count": 203,
   "metadata": {},
   "outputs": [
    {
     "data": {
      "text/plain": [
       "<matplotlib.image.AxesImage at 0x132e2b33ba8>"
      ]
     },
     "execution_count": 203,
     "metadata": {},
     "output_type": "execute_result"
    },
    {
     "data": {
      "image/png": "[encoded data removed]",
      "text/plain": [
       "<Figure size 432x288 with 1 Axes>"
      ]
     },
     "metadata": {},
     "output_type": "display_data"
    }
   ],
   "source": [
    "extrcated_rr = sitk.GetArrayFromImage(extracted_image)\n",
    "\n",
    "plt.imshow(extrcated_rr, cmap = 'gray')"
   ]
  },
  {
   "cell_type": "code",
   "execution_count": null,
   "metadata": {},
   "outputs": [],
   "source": []
  },
  {
   "cell_type": "code",
   "execution_count": null,
   "metadata": {},
   "outputs": [],
   "source": []
  },
  {
   "cell_type": "code",
   "execution_count": null,
   "metadata": {},
   "outputs": [],
   "source": []
  },
  {
   "cell_type": "code",
   "execution_count": null,
   "metadata": {},
   "outputs": [],
   "source": []
  },
  {
   "cell_type": "code",
   "execution_count": null,
   "metadata": {},
   "outputs": [],
   "source": []
  },
  {
   "cell_type": "code",
   "execution_count": null,
   "metadata": {},
   "outputs": [],
   "source": []
  },
  {
   "cell_type": "code",
   "execution_count": null,
   "metadata": {},
   "outputs": [],
   "source": []
  }
 ],
 "metadata": {
  "kernelspec": {
   "display_name": "Python 3",
   "language": "python",
   "name": "python3"
  },
  "language_info": {
   "codemirror_mode": {
    "name": "ipython",
    "version": 3
   },
   "file_extension": ".py",
   "mimetype": "text/x-python",
   "name": "python",
   "nbconvert_exporter": "python",
   "pygments_lexer": "ipython3",
   "version": "3.6.5"
  }
 },
 "nbformat": 4,
 "nbformat_minor": 2
}
